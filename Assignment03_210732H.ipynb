{
  "nbformat": 4,
  "nbformat_minor": 0,
  "metadata": {
    "colab": {
      "provenance": [],
      "gpuType": "T4",
      "authorship_tag": "ABX9TyNe04sZAIqXz4hctY1SOTmH",
      "include_colab_link": true
    },
    "kernelspec": {
      "name": "python3",
      "display_name": "Python 3"
    },
    "language_info": {
      "name": "python"
    },
    "accelerator": "GPU"
  },
  "cells": [
    {
      "cell_type": "markdown",
      "metadata": {
        "id": "view-in-github",
        "colab_type": "text"
      },
      "source": [
        "<a href=\"https://colab.research.google.com/github/isiri01/EN3160---Image-Processing-and-Machine-Vision/blob/main/Assignment03_210732H.ipynb\" target=\"_parent\"><img src=\"https://colab.research.google.com/assets/colab-badge.svg\" alt=\"Open In Colab\"/></a>"
      ]
    },
    {
      "cell_type": "markdown",
      "source": [
        "# Assignment 03  -  Withanawasam I. A  210732H"
      ],
      "metadata": {
        "id": "TvzvhKq5_k0A"
      }
    },
    {
      "cell_type": "markdown",
      "source": [
        "Link to the Github Repository -https://github.com/isiri01/EN3160---Image-Processing-and-Machine-Vision/blob/main/Assignment03_210732H.ipynb"
      ],
      "metadata": {
        "id": "YIiDSZ4pnX6_"
      }
    },
    {
      "cell_type": "markdown",
      "source": [
        "## Question 01"
      ],
      "metadata": {
        "id": "P8LwFztf-JG2"
      }
    },
    {
      "cell_type": "markdown",
      "source": [
        "### 01.Training without adding the adding the middle layer\n",
        "\n",
        "\n"
      ],
      "metadata": {
        "id": "PU6UO2jl-NCF"
      }
    },
    {
      "cell_type": "code",
      "source": [
        "import torch\n",
        "import torch.nn as nn\n",
        "import torch.optim as optim\n",
        "import torchvision\n",
        "import torchvision.transforms as transforms\n",
        "import matplotlib.pyplot as plt\n",
        "\n",
        "# 1. Dataloading\n",
        "transform = transforms.Compose([\n",
        "    transforms.ToTensor(),\n",
        "    transforms.Normalize((0.5, 0.5, 0.5), (0.5, 0.5, 0.5))\n",
        "])\n",
        "batch_size = 50\n",
        "trainset = torchvision.datasets.CIFAR10(root='./data', train=True, download=True, transform=transform)\n",
        "trainloader = torch.utils.data.DataLoader(trainset, batch_size=batch_size, shuffle=True, num_workers=2)\n",
        "testset = torchvision.datasets.CIFAR10(root='./data', train=False, download=True, transform=transform)\n",
        "testloader = torch.utils.data.DataLoader(testset, batch_size=batch_size, shuffle=False, num_workers=2)\n",
        "\n",
        "classes = ('plane', 'car', 'bird', 'cat', 'deer', 'dog', 'frog', 'horse', 'ship', 'truck')\n",
        "\n",
        "# 2. Define Network Parameters\n",
        "Din = 3 * 32 * 32  # Input size (flattened CIFAR-10 image size)\n",
        "K = 10             # Output size (number of classes in CIFAR-10)\n",
        "std = 1e-5\n",
        "\n",
        "# Initialize weights and biases\n",
        "w = torch.randn(Din, K) * std  # One layer: directly map input to output\n",
        "b = torch.zeros(K)\n",
        "\n",
        "# Hyperparameters\n",
        "iterations = 20\n",
        "lr = 2e-6  # Learning rate\n",
        "lr_decay = 0.9  # Learning rate decay\n",
        "reg = 0  # Regularization\n",
        "loss_history = []\n",
        "\n",
        "# 3. Training Loop\n",
        "for t in range(iterations):\n",
        "    running_loss = 0.0\n",
        "    for i, data in enumerate(trainloader, 0):\n",
        "        # Get inputs and labels\n",
        "        inputs, labels = data\n",
        "        Ntr = inputs.shape[0]  # Batch size\n",
        "        x_train = inputs.view(Ntr, -1)  # Flatten input to (Ntr, Din)\n",
        "        y_train_onehot = nn.functional.one_hot(labels, K).float()  # Convert labels to one-hot encoding\n",
        "\n",
        "        # Forward pass\n",
        "        y_pred = x_train.mm(w) + b  # Output layer activation\n",
        "\n",
        "        # Loss calculation (Mean Squared Error with regularization)\n",
        "        loss = (1 / Ntr) * torch.sum((y_pred - y_train_onehot) ** 2) + reg * torch.sum(w ** 2)\n",
        "        loss_history.append(loss.item())\n",
        "        running_loss += loss.item()\n",
        "\n",
        "        # Backpropagation\n",
        "        dy_pred = (2.0 / Ntr) * (y_pred - y_train_onehot)\n",
        "        dw = x_train.t().mm(dy_pred) + reg * w\n",
        "        db = dy_pred.sum(dim=0)\n",
        "\n",
        "        # Parameter update\n",
        "        w -= lr * dw\n",
        "        b -= lr * db\n",
        "\n",
        "    # Print loss for every epoch\n",
        "    if t % 1 == 0:\n",
        "        print(f\"Epoch {t + 1}/{iterations}, Loss: {running_loss / len(trainloader)}\")\n",
        "\n",
        "    # Learning rate decay\n",
        "    lr *= lr_decay\n",
        "\n",
        "# 4. Plotting the Loss History\n",
        "plt.plot(loss_history)\n",
        "plt.title(\"Loss History\")\n",
        "plt.xlabel(\"Iteration\")\n",
        "plt.ylabel(\"Loss\")\n",
        "plt.show()\n",
        "\n",
        "# 5. Calculate Accuracy on Training Set\n",
        "correct_train = 0\n",
        "total_train = 0\n",
        "with torch.no_grad():\n",
        "    for data in trainloader:\n",
        "        inputs, labels = data\n",
        "        Ntr = inputs.shape[0]\n",
        "        x_train = inputs.view(Ntr, -1)\n",
        "        y_train_pred = x_train.mm(w) + b\n",
        "        predicted_train = torch.argmax(y_train_pred, dim=1)\n",
        "        total_train += labels.size(0)\n",
        "        correct_train += (predicted_train == labels).sum().item()\n",
        "train_acc = 100 * correct_train / total_train\n",
        "print(f\"Training accuracy: {train_acc:.2f}%\")\n",
        "\n",
        "# 6. Calculate Accuracy on Test Set\n",
        "correct_test = 0\n",
        "total_test = 0\n",
        "with torch.no_grad():\n",
        "    for data in testloader:\n",
        "        inputs, labels = data\n",
        "        Nte = inputs.shape[0]\n",
        "        x_test = inputs.view(Nte, -1)\n",
        "        y_test_pred = x_test.mm(w) + b\n",
        "        predicted_test = torch.argmax(y_test_pred, dim=1)\n",
        "        total_test += labels.size(0)\n",
        "        correct_test += (predicted_test == labels).sum().item()\n",
        "test_acc = 100 * correct_test / total_test\n",
        "print(f\"Test accuracy: {test_acc:.2f}%\")\n",
        "\n"
      ],
      "metadata": {
        "colab": {
          "base_uri": "https://localhost:8080/",
          "height": 923
        },
        "id": "xofpA9eopN-D",
        "outputId": "132b1241-f874-402c-8219-1afb01591d21"
      },
      "execution_count": null,
      "outputs": [
        {
          "output_type": "stream",
          "name": "stdout",
          "text": [
            "Downloading https://www.cs.toronto.edu/~kriz/cifar-10-python.tar.gz to ./data/cifar-10-python.tar.gz\n"
          ]
        },
        {
          "output_type": "stream",
          "name": "stderr",
          "text": [
            "100%|██████████| 170M/170M [00:05<00:00, 30.6MB/s]\n"
          ]
        },
        {
          "output_type": "stream",
          "name": "stdout",
          "text": [
            "Extracting ./data/cifar-10-python.tar.gz to ./data\n",
            "Files already downloaded and verified\n",
            "Epoch 1/20, Loss: 0.9768964141011238\n",
            "Epoch 2/20, Loss: 0.9498089488148689\n",
            "Epoch 3/20, Loss: 0.9360747361183166\n",
            "Epoch 4/20, Loss: 0.9275211998224259\n",
            "Epoch 5/20, Loss: 0.9215844964385033\n",
            "Epoch 6/20, Loss: 0.917182621896267\n",
            "Epoch 7/20, Loss: 0.9137717428803444\n",
            "Epoch 8/20, Loss: 0.9110454975366592\n",
            "Epoch 9/20, Loss: 0.9088178619146347\n",
            "Epoch 10/20, Loss: 0.9069656866788864\n",
            "Epoch 11/20, Loss: 0.905406334400177\n",
            "Epoch 12/20, Loss: 0.9040793333053588\n",
            "Epoch 13/20, Loss: 0.9029409288764\n",
            "Epoch 14/20, Loss: 0.9019578450918198\n",
            "Epoch 15/20, Loss: 0.9011040740609169\n",
            "Epoch 16/20, Loss: 0.9003593390583992\n",
            "Epoch 17/20, Loss: 0.8997069072723388\n",
            "Epoch 18/20, Loss: 0.8991336208581925\n",
            "Epoch 19/20, Loss: 0.8986283649802208\n",
            "Epoch 20/20, Loss: 0.8981819064617157\n"
          ]
        },
        {
          "output_type": "display_data",
          "data": {
            "text/plain": [
              "<Figure size 640x480 with 1 Axes>"
            ],
            "image/png": "[encoded data removed]"
          },
          "metadata": {}
        },
        {
          "output_type": "stream",
          "name": "stdout",
          "text": [
            "Training accuracy: 32.21%\n",
            "Test accuracy: 32.40%\n"
          ]
        }
      ]
    },
    {
      "cell_type": "markdown",
      "source": [
        "### 02. Training the new network with added middle layer"
      ],
      "metadata": {
        "id": "a6jMrM9Z-edu"
      }
    },
    {
      "cell_type": "code",
      "source": [
        "import torch\n",
        "import torchvision\n",
        "import torchvision.transforms as transforms\n",
        "import matplotlib.pyplot as plt\n",
        "\n",
        "# 1. Dataloading\n",
        "transform = transforms.Compose([\n",
        "    transforms.ToTensor(),\n",
        "    transforms.Normalize((0.5, 0.5, 0.5), (0.5, 0.5, 0.5))\n",
        "])\n",
        "batch_size = 50\n",
        "trainset = torchvision.datasets.CIFAR10(root='./data', train=True, download=True, transform=transform)\n",
        "trainloader = torch.utils.data.DataLoader(trainset, batch_size=batch_size, shuffle=True, num_workers=2)\n",
        "testset = torchvision.datasets.CIFAR10(root='./data', train=False, download=True, transform=transform)\n",
        "testloader = torch.utils.data.DataLoader(testset, batch_size=batch_size, shuffle=False, num_workers=2)\n",
        "\n",
        "# 2. Define Network Parameters with Middle Layer\n",
        "Din = 3 * 32 * 32  # Input size (flattened CIFAR-10 image size)\n",
        "H = 100            # Size of the hidden layer - added middle layer\n",
        "K = 10             # Output size (number of classes in CIFAR-10)\n",
        "std = 1e-5\n",
        "\n",
        "# Initialize weights and biases for a two-layer network\n",
        "w1 = torch.randn(Din, H) * std\n",
        "b1 = torch.zeros(H)\n",
        "w2 = torch.randn(H, K) * std\n",
        "b2 = torch.zeros(K)\n",
        "\n",
        "# Hyperparameters\n",
        "epochs = 10\n",
        "lr = 1e-3  # Learning rate\n",
        "lr_decay = 0.9  # Learning rate decay\n",
        "reg = 0  # Regularization\n",
        "loss_history = []\n",
        "\n",
        "# 3. Training Loop with Manual Cross-Entropy Calculation\n",
        "for epoch in range(epochs):\n",
        "    running_loss = 0.0\n",
        "    for i, data in enumerate(trainloader, 0):\n",
        "        # Get inputs and labels\n",
        "        inputs, labels = data\n",
        "        Ntr = inputs.shape[0]  # Batch size\n",
        "        x_train = inputs.view(Ntr, -1)  # Flatten input to (Ntr, Din)\n",
        "\n",
        "        # Forward pass\n",
        "        hidden_layer = torch.sigmoid(x_train.mm(w1) + b1)  # Hidden layer with sigmoid activation\n",
        "        logits = hidden_layer.mm(w2) + b2  # Output layer (logits)\n",
        "\n",
        "        # Step 1: Apply Softmax to get probabilities\n",
        "        probs = torch.softmax(logits, dim=1)\n",
        "\n",
        "        # Step 2: Calculate manual cross-entropy loss\n",
        "        labels_encoded = torch.nn.functional.one_hot(labels, num_classes=K).float()\n",
        "        correct_log_probs = -torch.sum(labels_encoded * torch.log(probs + 1e-9)) / Ntr\n",
        "        loss = correct_log_probs + reg * (torch.sum(w1 ** 2) + torch.sum(w2 ** 2))\n",
        "        loss_history.append(loss.item())\n",
        "        running_loss += loss.item()\n",
        "\n",
        "        # Backpropagation\n",
        "        dy_pred = probs - labels_encoded\n",
        "        dw2 = hidden_layer.t().mm(dy_pred) + reg * w2\n",
        "        db2 = dy_pred.sum(dim=0)\n",
        "        dhidden = dy_pred.mm(w2.t()) *hidden_layer * (1 - hidden_layer)\n",
        "        dw1 = x_train.t().mm(dhidden) + reg * w1\n",
        "        db1 = dhidden.sum(dim=0)\n",
        "\n",
        "        # Parameter update\n",
        "        w1 -= lr * dw1\n",
        "        b1 -= lr * db1\n",
        "        w2 -= lr * dw2\n",
        "        b2 -= lr * db2\n",
        "\n",
        "    # Print loss for every epoch\n",
        "    print(f\"Epoch {epoch + 1}/{epochs}, Loss: {running_loss / len(trainloader)}\")\n",
        "\n",
        "    # Learning rate decay\n",
        "    lr *= lr_decay\n",
        "\n",
        "# 4. Plotting the Loss History\n",
        "plt.plot(loss_history)\n",
        "plt.title(\"Loss History\")\n",
        "plt.xlabel(\"Iteration\")\n",
        "plt.ylabel(\"Loss\")\n",
        "plt.show()\n",
        "\n",
        "# 5. Calculate Accuracy on Training Set\n",
        "correct_train = 0\n",
        "total_train = 0\n",
        "with torch.no_grad():\n",
        "    for data in trainloader:\n",
        "        inputs, labels = data\n",
        "        Ntr = inputs.shape[0]\n",
        "        x_train = inputs.view(Ntr, -1)\n",
        "        hidden_layer = torch.sigmoid(x_train.mm(w1) + b1)\n",
        "        y_train_pred = hidden_layer.mm(w2) + b2\n",
        "        predicted_train = torch.argmax(y_train_pred, dim=1)\n",
        "        total_train += labels.size(0)\n",
        "        correct_train += (predicted_train == labels).sum().item()\n",
        "train_acc = 100 * correct_train / total_train\n",
        "print(f\"Training accuracy: {train_acc:.2f}%\")\n",
        "\n",
        "# 6. Calculate Accuracy on Test Set\n",
        "correct_test = 0\n",
        "total_test = 0\n",
        "with torch.no_grad():\n",
        "    for data in testloader:\n",
        "        inputs, labels = data\n",
        "        Nte = inputs.shape[0]\n",
        "        x_test = inputs.view(Nte, -1)\n",
        "        hidden_layer = torch.sigmoid(x_test.mm(w1) + b1)\n",
        "        y_test_pred = hidden_layer.mm(w2) + b2\n",
        "        predicted_test = torch.argmax(y_test_pred, dim=1)\n",
        "        total_test += labels.size(0)\n",
        "        correct_test += (predicted_test == labels).sum().item()\n",
        "test_acc = 100 * correct_test / total_test\n",
        "print(f\"Test accuracy: {test_acc:.2f}%\")\n"
      ],
      "metadata": {
        "colab": {
          "base_uri": "https://localhost:8080/",
          "height": 715
        },
        "id": "xOWURHiNdMog",
        "outputId": "be26415d-2abc-431d-9c22-780f99b0dab9"
      },
      "execution_count": 8,
      "outputs": [
        {
          "output_type": "stream",
          "name": "stdout",
          "text": [
            "Files already downloaded and verified\n",
            "Files already downloaded and verified\n",
            "Epoch 1/10, Loss: 2.159594218373299\n",
            "Epoch 2/10, Loss: 1.9022757301330566\n",
            "Epoch 3/10, Loss: 1.803445282459259\n",
            "Epoch 4/10, Loss: 1.746883126616478\n",
            "Epoch 5/10, Loss: 1.7111582659482956\n",
            "Epoch 6/10, Loss: 1.6850866389274597\n",
            "Epoch 7/10, Loss: 1.6635848679542542\n",
            "Epoch 8/10, Loss: 1.6454932807683944\n",
            "Epoch 9/10, Loss: 1.629655940413475\n",
            "Epoch 10/10, Loss: 1.6152131444215774\n"
          ]
        },
        {
          "output_type": "display_data",
          "data": {
            "text/plain": [
              "<Figure size 640x480 with 1 Axes>"
            ],
            "image/png": "[encoded data removed]"
          },
          "metadata": {}
        },
        {
          "output_type": "stream",
          "name": "stdout",
          "text": [
            "Training accuracy: 44.21%\n",
            "Test accuracy: 43.04%\n"
          ]
        }
      ]
    },
    {
      "cell_type": "markdown",
      "source": [
        "In the presence of cross-entropy loss, the test accuracy increased from 32% to 43% when a middle layer with 100 nodes was included.\n",
        "\n"
      ],
      "metadata": {
        "id": "1uMFLB43-xAx"
      }
    },
    {
      "cell_type": "markdown",
      "source": [
        "## Question 02"
      ],
      "metadata": {
        "id": "z-gJVfPd-3h-"
      }
    },
    {
      "cell_type": "code",
      "source": [
        "import torch\n",
        "import torch.nn as nn\n",
        "import torch.optim as optim\n",
        "import torchvision\n",
        "import torchvision.transforms as transforms\n",
        "import matplotlib.pyplot as plt\n",
        "\n",
        "# 1. Data loading and preprocessing\n",
        "transform = transforms.Compose([\n",
        "    transforms.ToTensor(),\n",
        "    transforms.Normalize((0.5,), (0.5,))\n",
        "])\n",
        "\n",
        "batch_size = 64\n",
        "trainset = torchvision.datasets.MNIST(root='./data', train=True, download=True, transform=transform)\n",
        "trainloader = torch.utils.data.DataLoader(trainset, batch_size=batch_size, shuffle=True, num_workers=2)\n",
        "testset = torchvision.datasets.MNIST(root='./data', train=False, download=True, transform=transform)\n",
        "testloader = torch.utils.data.DataLoader(testset, batch_size=batch_size, shuffle=False, num_workers=2)\n",
        "\n",
        "# 2. Define the LeNet-5 Network\n",
        "class LeNet5(nn.Module):\n",
        "    def __init__(self):\n",
        "        super(LeNet5, self).__init__()\n",
        "        self.conv1 = nn.Conv2d(1, 6, kernel_size=5, stride=1, padding=2)\n",
        "        self.conv2 = nn.Conv2d(6, 16, kernel_size=5, stride=1)\n",
        "        self.fc1 = nn.Linear(16 * 5 * 5, 120)\n",
        "        self.fc2 = nn.Linear(120, 84)\n",
        "        self.fc3 = nn.Linear(84, 10)\n",
        "\n",
        "    def forward(self, x):\n",
        "        x = torch.relu(self.conv1(x))\n",
        "        x = torch.max_pool2d(x, kernel_size=2, stride=2)\n",
        "        x = torch.relu(self.conv2(x))\n",
        "        x = torch.max_pool2d(x, kernel_size=2, stride=2)\n",
        "        x = x.view(-1, 16 * 5 * 5)  # Flatten\n",
        "        x = torch.relu(self.fc1(x))\n",
        "        x = torch.relu(self.fc2(x))\n",
        "        x = self.fc3(x)\n",
        "        return x\n",
        "\n",
        "# 3. Instantiate the network, define loss and optimizer\n",
        "net = LeNet5()\n",
        "criterion = nn.CrossEntropyLoss()\n",
        "optimizer = optim.Adam(net.parameters(), lr=0.001)\n",
        "\n",
        "# 4. Training Loop\n",
        "epochs = 10\n",
        "for epoch in range(epochs):\n",
        "    running_loss = 0.0\n",
        "    correct_train = 0\n",
        "    total_train = 0\n",
        "    for inputs, labels in trainloader:\n",
        "        # Zero the parameter gradients\n",
        "        optimizer.zero_grad()\n",
        "\n",
        "        # Forward + Backward + Optimize\n",
        "        outputs = net(inputs)\n",
        "        loss = criterion(outputs, labels)\n",
        "        loss.backward()\n",
        "        optimizer.step()\n",
        "\n",
        "        # Statistics\n",
        "        running_loss += loss.item()\n",
        "        _, predicted = torch.max(outputs, 1)\n",
        "        total_train += labels.size(0)\n",
        "        correct_train += (predicted == labels).sum().item()\n",
        "\n",
        "    train_acc = 100 * correct_train / total_train\n",
        "    print(f\"Epoch {epoch+1}/{epochs}, Loss: {running_loss / len(trainloader):.4f}, Training accuracy: {train_acc:.2f}%\")\n",
        "\n",
        "# 5. Testing the Network\n",
        "correct_test = 0\n",
        "total_test = 0\n",
        "with torch.no_grad():\n",
        "    for inputs, labels in testloader:\n",
        "        outputs = net(inputs)\n",
        "        _, predicted = torch.max(outputs, 1)\n",
        "        total_test += labels.size(0)\n",
        "        correct_test += (predicted == labels).sum().item()\n",
        "\n",
        "test_acc = 100 * correct_test / total_test\n",
        "print(f\"Test accuracy: {test_acc:.2f}%\")\n"
      ],
      "metadata": {
        "colab": {
          "base_uri": "https://localhost:8080/"
        },
        "id": "VVGTTWgkozDJ",
        "outputId": "e8da863e-7bc8-4dce-a58f-b6af830a48fe"
      },
      "execution_count": null,
      "outputs": [
        {
          "output_type": "stream",
          "name": "stdout",
          "text": [
            "Downloading http://yann.lecun.com/exdb/mnist/train-images-idx3-ubyte.gz\n",
            "Failed to download (trying next):\n",
            "HTTP Error 403: Forbidden\n",
            "\n",
            "Downloading https://ossci-datasets.s3.amazonaws.com/mnist/train-images-idx3-ubyte.gz\n",
            "Downloading https://ossci-datasets.s3.amazonaws.com/mnist/train-images-idx3-ubyte.gz to ./data/MNIST/raw/train-images-idx3-ubyte.gz\n"
          ]
        },
        {
          "output_type": "stream",
          "name": "stderr",
          "text": [
            "100%|██████████| 9.91M/9.91M [00:00<00:00, 16.4MB/s]\n"
          ]
        },
        {
          "output_type": "stream",
          "name": "stdout",
          "text": [
            "Extracting ./data/MNIST/raw/train-images-idx3-ubyte.gz to ./data/MNIST/raw\n",
            "\n",
            "Downloading http://yann.lecun.com/exdb/mnist/train-labels-idx1-ubyte.gz\n",
            "Failed to download (trying next):\n",
            "HTTP Error 403: Forbidden\n",
            "\n",
            "Downloading https://ossci-datasets.s3.amazonaws.com/mnist/train-labels-idx1-ubyte.gz\n",
            "Downloading https://ossci-datasets.s3.amazonaws.com/mnist/train-labels-idx1-ubyte.gz to ./data/MNIST/raw/train-labels-idx1-ubyte.gz\n"
          ]
        },
        {
          "output_type": "stream",
          "name": "stderr",
          "text": [
            "100%|██████████| 28.9k/28.9k [00:00<00:00, 505kB/s]\n"
          ]
        },
        {
          "output_type": "stream",
          "name": "stdout",
          "text": [
            "Extracting ./data/MNIST/raw/train-labels-idx1-ubyte.gz to ./data/MNIST/raw\n",
            "\n",
            "Downloading http://yann.lecun.com/exdb/mnist/t10k-images-idx3-ubyte.gz\n",
            "Failed to download (trying next):\n",
            "HTTP Error 403: Forbidden\n",
            "\n",
            "Downloading https://ossci-datasets.s3.amazonaws.com/mnist/t10k-images-idx3-ubyte.gz\n",
            "Downloading https://ossci-datasets.s3.amazonaws.com/mnist/t10k-images-idx3-ubyte.gz to ./data/MNIST/raw/t10k-images-idx3-ubyte.gz\n"
          ]
        },
        {
          "output_type": "stream",
          "name": "stderr",
          "text": [
            "100%|██████████| 1.65M/1.65M [00:00<00:00, 4.50MB/s]\n"
          ]
        },
        {
          "output_type": "stream",
          "name": "stdout",
          "text": [
            "Extracting ./data/MNIST/raw/t10k-images-idx3-ubyte.gz to ./data/MNIST/raw\n",
            "\n",
            "Downloading http://yann.lecun.com/exdb/mnist/t10k-labels-idx1-ubyte.gz\n",
            "Failed to download (trying next):\n",
            "HTTP Error 403: Forbidden\n",
            "\n",
            "Downloading https://ossci-datasets.s3.amazonaws.com/mnist/t10k-labels-idx1-ubyte.gz\n",
            "Downloading https://ossci-datasets.s3.amazonaws.com/mnist/t10k-labels-idx1-ubyte.gz to ./data/MNIST/raw/t10k-labels-idx1-ubyte.gz\n"
          ]
        },
        {
          "output_type": "stream",
          "name": "stderr",
          "text": [
            "100%|██████████| 4.54k/4.54k [00:00<00:00, 4.90MB/s]"
          ]
        },
        {
          "output_type": "stream",
          "name": "stdout",
          "text": [
            "Extracting ./data/MNIST/raw/t10k-labels-idx1-ubyte.gz to ./data/MNIST/raw\n",
            "\n"
          ]
        },
        {
          "output_type": "stream",
          "name": "stderr",
          "text": [
            "\n"
          ]
        },
        {
          "output_type": "stream",
          "name": "stdout",
          "text": [
            "Epoch 1/10, Loss: 0.2371, Training accuracy: 92.98%\n",
            "Epoch 2/10, Loss: 0.0675, Training accuracy: 97.83%\n",
            "Epoch 3/10, Loss: 0.0459, Training accuracy: 98.56%\n",
            "Epoch 4/10, Loss: 0.0367, Training accuracy: 98.87%\n",
            "Epoch 5/10, Loss: 0.0283, Training accuracy: 99.08%\n",
            "Epoch 6/10, Loss: 0.0252, Training accuracy: 99.19%\n",
            "Epoch 7/10, Loss: 0.0199, Training accuracy: 99.33%\n",
            "Epoch 8/10, Loss: 0.0185, Training accuracy: 99.42%\n",
            "Epoch 9/10, Loss: 0.0154, Training accuracy: 99.49%\n",
            "Epoch 10/10, Loss: 0.0138, Training accuracy: 99.56%\n",
            "Test accuracy: 98.79%\n"
          ]
        }
      ]
    },
    {
      "cell_type": "markdown",
      "source": [
        "Got a test accuracy of 98.79 %"
      ],
      "metadata": {
        "id": "T6nxcG3z_EIQ"
      }
    },
    {
      "cell_type": "markdown",
      "source": [
        "## Question 03"
      ],
      "metadata": {
        "id": "1iTEI9t1_K8K"
      }
    },
    {
      "cell_type": "markdown",
      "source": [
        "### Part 01 - Fine tuning"
      ],
      "metadata": {
        "id": "DAeDXwD__OI_"
      }
    },
    {
      "cell_type": "code",
      "source": [
        "from google.colab import drive\n",
        "drive.mount('/content/drive')"
      ],
      "metadata": {
        "colab": {
          "base_uri": "https://localhost:8080/"
        },
        "id": "m0QfSqXsxbmP",
        "outputId": "a0beaa6a-7e4d-4fd9-f973-95659e126091"
      },
      "execution_count": null,
      "outputs": [
        {
          "output_type": "stream",
          "name": "stdout",
          "text": [
            "Mounted at /content/drive\n"
          ]
        }
      ]
    },
    {
      "cell_type": "code",
      "source": [
        "import torch\n",
        "import torch.nn as nn\n",
        "import torch.optim as optim\n",
        "from torchvision import datasets, models, transforms\n",
        "import time\n",
        "import os\n",
        "import copy\n",
        "\n",
        "# Define data transformations\n",
        "data_transforms = {\n",
        "    'train': transforms.Compose([\n",
        "        transforms.RandomResizedCrop(224),\n",
        "        transforms.RandomHorizontalFlip(),\n",
        "        transforms.ToTensor(),\n",
        "        transforms.Normalize([0.485, 0.456, 0.406], [0.229, 0.224, 0.225])\n",
        "    ]),\n",
        "    'val': transforms.Compose([\n",
        "        transforms.Resize(256),\n",
        "        transforms.CenterCrop(224),\n",
        "        transforms.ToTensor(),\n",
        "        transforms.Normalize([0.485, 0.456, 0.406], [0.229, 0.224, 0.225])\n",
        "    ]),\n",
        "}\n",
        "\n",
        "data_dir = '/content/drive/MyDrive/archive.zip (Unzipped Files)/hymenoptera'\n",
        "\n",
        "# Create datasets and dataloaders\n",
        "image_datasets = {x: datasets.ImageFolder(os.path.join(data_dir, x),data_transforms[x])for x in ['train', 'val']}\n",
        "dataloaders = {x: torch.utils.data.DataLoader(image_datasets[x], batch_size=4,shuffle=True, num_workers=4)for x in ['train', 'val']}\n",
        "dataset_sizes = {x: len(image_datasets[x]) for x in ['train', 'val']}\n",
        "class_names = image_datasets['train'].classes\n",
        "\n",
        "device = torch.device(\"cuda:0\" if torch.cuda.is_available() else \"cpu\")"
      ],
      "metadata": {
        "colab": {
          "base_uri": "https://localhost:8080/"
        },
        "id": "EZ6Squ--uBO3",
        "outputId": "bb1a69fe-9f79-44fa-8abb-dfce7a10d26c"
      },
      "execution_count": null,
      "outputs": [
        {
          "output_type": "stream",
          "name": "stderr",
          "text": [
            "/usr/local/lib/python3.10/dist-packages/torch/utils/data/dataloader.py:617: UserWarning: This DataLoader will create 4 worker processes in total. Our suggested max number of worker in current system is 2, which is smaller than what this DataLoader is going to create. Please be aware that excessive worker creation might get DataLoader running slow or even freeze, lower the worker number to avoid potential slowness/freeze if necessary.\n",
            "  warnings.warn(\n"
          ]
        }
      ]
    },
    {
      "cell_type": "code",
      "source": [
        "def train_model(model, criterion, optimizer, scheduler, num_epochs=30):\n",
        "    since = time.time()\n",
        "\n",
        "    best_model_wts = copy.deepcopy(model.state_dict())\n",
        "    best_acc = 0.0\n",
        "\n",
        "    for epoch in range(num_epochs):\n",
        "        print('Epoch {}/{}'.format(epoch, num_epochs - 1))\n",
        "        print('-' * 10)\n",
        "\n",
        "\n",
        "        for phase in ['train', 'val']:\n",
        "            if phase == 'train':\n",
        "                scheduler.step()\n",
        "                model.train()  # training\n",
        "            else:\n",
        "                model.eval()   # evaluatinh\n",
        "\n",
        "            running_loss = 0.0\n",
        "            running_corrects = 0\n",
        "\n",
        "            # Iterate over data.\n",
        "            for inputs, labels in dataloaders[phase]:\n",
        "                inputs = inputs.to(device)\n",
        "                labels = labels.to(device)\n",
        "\n",
        "                optimizer.zero_grad()\n",
        "\n",
        "                with torch.set_grad_enabled(phase == 'train'):\n",
        "                    outputs = model(inputs)\n",
        "                    _, preds = torch.max(outputs, 1)\n",
        "                    loss = criterion(outputs, labels)\n",
        "\n",
        "                    if phase == 'train':\n",
        "                        loss.backward()\n",
        "                        optimizer.step()\n",
        "\n",
        "                running_loss += loss.item() * inputs.size(0)\n",
        "                running_corrects += torch.sum(preds == labels.data)\n",
        "\n",
        "            epoch_loss = running_loss / dataset_sizes[phase]\n",
        "            epoch_acc = running_corrects.double() / dataset_sizes[phase]\n",
        "\n",
        "            print('{} Loss: {:.4f} Acc: {:.4f}'.format(\n",
        "                phase, epoch_loss, epoch_acc))\n",
        "\n",
        "\n",
        "            if phase == 'val' and epoch_acc > best_acc:\n",
        "                best_acc = epoch_acc\n",
        "                best_model_wts = copy.deepcopy(model.state_dict())\n",
        "\n",
        "        print()\n",
        "\n",
        "    time_elapsed = time.time() - since\n",
        "    print('Training complete in {:.0f}m {:.0f}s'.format(\n",
        "        time_elapsed // 60, time_elapsed % 60))\n",
        "    print('Best val Acc: {:4f}'.format(best_acc))\n",
        "\n",
        "    # load best model weights\n",
        "    model.load_state_dict(best_model_wts)\n",
        "    return model"
      ],
      "metadata": {
        "id": "HKqcIwQS0IPf"
      },
      "execution_count": null,
      "outputs": []
    },
    {
      "cell_type": "code",
      "source": [
        "from torch.optim import lr_scheduler\n",
        "\n",
        "model_ft = models.resnet18(pretrained=True)\n",
        "num_ftrs = model_ft.fc.in_features\n",
        "model_ft.fc = nn.Linear(num_ftrs, 2)\n",
        "\n",
        "model_ft = model_ft.to(device)\n",
        "\n",
        "criterion = nn.CrossEntropyLoss()\n",
        "\n",
        "# Observe that all parameters are being optimized\n",
        "optimizer_ft = optim.SGD(model_ft.parameters(), lr=0.001, momentum=0.9)\n",
        "\n",
        "# Decay LR by a factor of 0.1 every 7 epochs\n",
        "exp_lr_scheduler = lr_scheduler.StepLR(optimizer_ft, step_size=7, gamma=0.1)"
      ],
      "metadata": {
        "colab": {
          "base_uri": "https://localhost:8080/"
        },
        "id": "M_-cKn8f87vW",
        "outputId": "1bef3692-0229-4dc6-d397-3e4aae8d7344"
      },
      "execution_count": null,
      "outputs": [
        {
          "output_type": "stream",
          "name": "stderr",
          "text": [
            "/usr/local/lib/python3.10/dist-packages/torchvision/models/_utils.py:208: UserWarning: The parameter 'pretrained' is deprecated since 0.13 and may be removed in the future, please use 'weights' instead.\n",
            "  warnings.warn(\n",
            "/usr/local/lib/python3.10/dist-packages/torchvision/models/_utils.py:223: UserWarning: Arguments other than a weight enum or `None` for 'weights' are deprecated since 0.13 and may be removed in the future. The current behavior is equivalent to passing `weights=ResNet18_Weights.IMAGENET1K_V1`. You can also use `weights=ResNet18_Weights.DEFAULT` to get the most up-to-date weights.\n",
            "  warnings.warn(msg)\n"
          ]
        }
      ]
    },
    {
      "cell_type": "code",
      "source": [
        "model_ft = train_model(model_ft, criterion, optimizer_ft, exp_lr_scheduler,num_epochs=30)"
      ],
      "metadata": {
        "id": "esv0NE9R9Cja",
        "colab": {
          "base_uri": "https://localhost:8080/"
        },
        "outputId": "8b663b40-b6cb-46bc-a151-f0f5619e21bb"
      },
      "execution_count": null,
      "outputs": [
        {
          "output_type": "stream",
          "name": "stdout",
          "text": [
            "Epoch 0/29\n",
            "----------\n",
            "train Loss: 0.5609 Acc: 0.6926\n",
            "val Loss: 0.1653 Acc: 0.9281\n",
            "\n",
            "Epoch 1/29\n",
            "----------\n",
            "train Loss: 0.4494 Acc: 0.7910\n",
            "val Loss: 0.2529 Acc: 0.9020\n",
            "\n",
            "Epoch 2/29\n",
            "----------\n",
            "train Loss: 0.5605 Acc: 0.7582\n",
            "val Loss: 0.2822 Acc: 0.8889\n",
            "\n",
            "Epoch 3/29\n",
            "----------\n",
            "train Loss: 0.4340 Acc: 0.8115\n",
            "val Loss: 0.1976 Acc: 0.9281\n",
            "\n",
            "Epoch 4/29\n",
            "----------\n",
            "train Loss: 0.4854 Acc: 0.8156\n",
            "val Loss: 0.3686 Acc: 0.8627\n",
            "\n",
            "Epoch 5/29\n",
            "----------\n",
            "train Loss: 0.4093 Acc: 0.8402\n",
            "val Loss: 0.2574 Acc: 0.9085\n",
            "\n",
            "Epoch 6/29\n",
            "----------\n",
            "train Loss: 0.3741 Acc: 0.8607\n",
            "val Loss: 0.2496 Acc: 0.9020\n",
            "\n",
            "Epoch 7/29\n",
            "----------\n",
            "train Loss: 0.3377 Acc: 0.8648\n",
            "val Loss: 0.2172 Acc: 0.9085\n",
            "\n",
            "Epoch 8/29\n",
            "----------\n",
            "train Loss: 0.2530 Acc: 0.8975\n",
            "val Loss: 0.2031 Acc: 0.9216\n",
            "\n",
            "Epoch 9/29\n",
            "----------\n",
            "train Loss: 0.3980 Acc: 0.8361\n",
            "val Loss: 0.1900 Acc: 0.9281\n",
            "\n",
            "Epoch 10/29\n",
            "----------\n",
            "train Loss: 0.2658 Acc: 0.8893\n",
            "val Loss: 0.1446 Acc: 0.9346\n",
            "\n",
            "Epoch 11/29\n",
            "----------\n",
            "train Loss: 0.2700 Acc: 0.8852\n",
            "val Loss: 0.1857 Acc: 0.9020\n",
            "\n",
            "Epoch 12/29\n",
            "----------\n",
            "train Loss: 0.2484 Acc: 0.8975\n",
            "val Loss: 0.2730 Acc: 0.8824\n",
            "\n",
            "Epoch 13/29\n",
            "----------\n",
            "train Loss: 0.3776 Acc: 0.8484\n",
            "val Loss: 0.1718 Acc: 0.9281\n",
            "\n",
            "Epoch 14/29\n",
            "----------\n",
            "train Loss: 0.2160 Acc: 0.9303\n",
            "val Loss: 0.1648 Acc: 0.9346\n",
            "\n",
            "Epoch 15/29\n",
            "----------\n",
            "train Loss: 0.3443 Acc: 0.8648\n",
            "val Loss: 0.1682 Acc: 0.9346\n",
            "\n",
            "Epoch 16/29\n",
            "----------\n",
            "train Loss: 0.2506 Acc: 0.9016\n",
            "val Loss: 0.1584 Acc: 0.9412\n",
            "\n",
            "Epoch 17/29\n",
            "----------\n",
            "train Loss: 0.2995 Acc: 0.8648\n",
            "val Loss: 0.1474 Acc: 0.9412\n",
            "\n",
            "Epoch 18/29\n",
            "----------\n",
            "train Loss: 0.2508 Acc: 0.8934\n",
            "val Loss: 0.1454 Acc: 0.9412\n",
            "\n",
            "Epoch 19/29\n",
            "----------\n",
            "train Loss: 0.3673 Acc: 0.8361\n",
            "val Loss: 0.1746 Acc: 0.9150\n",
            "\n",
            "Epoch 20/29\n",
            "----------\n",
            "train Loss: 0.2567 Acc: 0.8975\n",
            "val Loss: 0.1589 Acc: 0.9412\n",
            "\n",
            "Epoch 21/29\n",
            "----------\n",
            "train Loss: 0.2965 Acc: 0.8607\n",
            "val Loss: 0.1508 Acc: 0.9412\n",
            "\n",
            "Epoch 22/29\n",
            "----------\n",
            "train Loss: 0.2981 Acc: 0.8566\n",
            "val Loss: 0.1792 Acc: 0.9281\n",
            "\n",
            "Epoch 23/29\n",
            "----------\n",
            "train Loss: 0.3442 Acc: 0.8361\n",
            "val Loss: 0.1490 Acc: 0.9281\n",
            "\n",
            "Epoch 24/29\n",
            "----------\n",
            "train Loss: 0.3052 Acc: 0.8648\n",
            "val Loss: 0.1701 Acc: 0.9216\n",
            "\n",
            "Epoch 25/29\n",
            "----------\n",
            "train Loss: 0.2814 Acc: 0.9016\n",
            "val Loss: 0.1655 Acc: 0.9281\n",
            "\n",
            "Epoch 26/29\n",
            "----------\n",
            "train Loss: 0.2489 Acc: 0.8893\n",
            "val Loss: 0.1728 Acc: 0.9216\n",
            "\n",
            "Epoch 27/29\n",
            "----------\n",
            "train Loss: 0.3367 Acc: 0.8525\n",
            "val Loss: 0.1579 Acc: 0.9281\n",
            "\n",
            "Epoch 28/29\n",
            "----------\n",
            "train Loss: 0.3030 Acc: 0.8484\n",
            "val Loss: 0.1482 Acc: 0.9477\n",
            "\n",
            "Epoch 29/29\n",
            "----------\n",
            "train Loss: 0.2135 Acc: 0.9098\n",
            "val Loss: 0.1533 Acc: 0.9346\n",
            "\n",
            "Training complete in 3m 10s\n",
            "Best val Acc: 0.947712\n"
          ]
        }
      ]
    },
    {
      "cell_type": "code",
      "source": [
        "from sklearn.metrics import confusion_matrix\n",
        "import seaborn as sn\n",
        "import pandas as pd\n",
        "import numpy as np\n",
        "import matplotlib.pyplot as plt\n",
        "\n",
        "#adding predictions and true labels to lists to use later\n",
        "y_pred = []\n",
        "y_true = []\n",
        "\n",
        "# iterate over test data\n",
        "for inputs, labels in dataloaders['val']:\n",
        "    inputs = inputs.to(device)\n",
        "    labels = labels.to(device)\n",
        "\n",
        "    output = model_ft(inputs)\n",
        "\n",
        "    output = (torch.max(torch.exp(output), 1)[1]).data.cpu().numpy()\n",
        "    y_pred.extend(output)\n",
        "\n",
        "    labels = labels.data.cpu().numpy()\n",
        "    y_true.extend(labels)\n",
        "\n",
        "\n",
        "# Plotting confusion matrix\n",
        "cf_matrix = confusion_matrix(y_true, y_pred)\n",
        "\n",
        "plt.figure(figsize = (12,7))\n",
        "sn.heatmap(cf_matrix, annot=True)\n",
        "plt.show()"
      ],
      "metadata": {
        "colab": {
          "base_uri": "https://localhost:8080/",
          "height": 654
        },
        "id": "E1_VvvDfRdyo",
        "outputId": "02c92bbb-2a13-4d04-ea2c-96167941ba2a"
      },
      "execution_count": null,
      "outputs": [
        {
          "output_type": "stream",
          "name": "stderr",
          "text": [
            "/usr/local/lib/python3.10/dist-packages/torch/utils/data/dataloader.py:617: UserWarning: This DataLoader will create 4 worker processes in total. Our suggested max number of worker in current system is 2, which is smaller than what this DataLoader is going to create. Please be aware that excessive worker creation might get DataLoader running slow or even freeze, lower the worker number to avoid potential slowness/freeze if necessary.\n",
            "  warnings.warn(\n"
          ]
        },
        {
          "output_type": "display_data",
          "data": {
            "text/plain": [
              "<Figure size 1200x700 with 2 Axes>"
            ],
            "image/png": "[encoded data removed]"
          },
          "metadata": {}
        }
      ]
    },
    {
      "cell_type": "markdown",
      "source": [
        "In order to produce two classes that correspond to the Hymenoptera dataset, I initialize the pre-trained ResNet18 model and alter its last fully connected layer. With this configuration, the model may change to precisely identify ants and bees while maintaining the traits it has learnt from ImageNet.\n",
        "\n",
        "I updated all parameters using an SGD optimizer with a learning rate of 0.001 and momentum of 0.9, using cross-entropy loss as the criteria. To improve the model's fine-tuning over time, a learning rate scheduler decays the learning rate by 0.1 every seven epochs.\n",
        "\n",
        "Finally got a validation accuracy around 94%."
      ],
      "metadata": {
        "id": "BS8npOefBy0p"
      }
    },
    {
      "cell_type": "markdown",
      "source": [
        "### Part 02 - Using the network as a feature extractor"
      ],
      "metadata": {
        "id": "ntjYrfKl_YsW"
      }
    },
    {
      "cell_type": "code",
      "source": [
        "import torchvision\n",
        "\n",
        "model_conv = torchvision.models.resnet18(pretrained=True)\n",
        "for param in model_conv.parameters():\n",
        "    param.requires_grad = False\n",
        "\n",
        "# Parameters of newly constructed modules have requires_grad=True by default\n",
        "num_ftrs = model_conv.fc.in_features\n",
        "model_conv.fc = nn.Linear(num_ftrs, 2)\n",
        "\n",
        "model_conv = model_conv.to(device)\n",
        "\n",
        "criterion = nn.CrossEntropyLoss()\n",
        "\n",
        "#parameters of final layer are being optimized\n",
        "optimizer_conv = optim.SGD(model_conv.fc.parameters(), lr=0.001, momentum=0.9)\n",
        "\n",
        "# Decay LR by a factor of 0.1 every 7 epochs\n",
        "exp_lr_scheduler = lr_scheduler.StepLR(optimizer_conv, step_size=7, gamma=0.1)\n"
      ],
      "metadata": {
        "colab": {
          "base_uri": "https://localhost:8080/"
        },
        "id": "7GTEO2grJvAw",
        "outputId": "487c6a7d-9710-4c97-ec8f-001b139216e7"
      },
      "execution_count": null,
      "outputs": [
        {
          "output_type": "stream",
          "name": "stderr",
          "text": [
            "/usr/local/lib/python3.10/dist-packages/torchvision/models/_utils.py:208: UserWarning: The parameter 'pretrained' is deprecated since 0.13 and may be removed in the future, please use 'weights' instead.\n",
            "  warnings.warn(\n",
            "/usr/local/lib/python3.10/dist-packages/torchvision/models/_utils.py:223: UserWarning: Arguments other than a weight enum or `None` for 'weights' are deprecated since 0.13 and may be removed in the future. The current behavior is equivalent to passing `weights=ResNet18_Weights.IMAGENET1K_V1`. You can also use `weights=ResNet18_Weights.DEFAULT` to get the most up-to-date weights.\n",
            "  warnings.warn(msg)\n"
          ]
        }
      ]
    },
    {
      "cell_type": "code",
      "source": [
        "model_conv = train_model(model_conv, criterion, optimizer_conv, exp_lr_scheduler, num_epochs=30)"
      ],
      "metadata": {
        "colab": {
          "base_uri": "https://localhost:8080/"
        },
        "id": "acmBYZcjKIB0",
        "outputId": "95104236-3a4e-460c-eeb0-73fb953fa868"
      },
      "execution_count": null,
      "outputs": [
        {
          "output_type": "stream",
          "name": "stdout",
          "text": [
            "Epoch 0/29\n",
            "----------\n"
          ]
        },
        {
          "output_type": "stream",
          "name": "stderr",
          "text": [
            "/usr/local/lib/python3.10/dist-packages/torch/optim/lr_scheduler.py:224: UserWarning: Detected call of `lr_scheduler.step()` before `optimizer.step()`. In PyTorch 1.1.0 and later, you should call them in the opposite order: `optimizer.step()` before `lr_scheduler.step()`.  Failure to do this will result in PyTorch skipping the first value of the learning rate schedule. See more details at https://pytorch.org/docs/stable/optim.html#how-to-adjust-learning-rate\n",
            "  warnings.warn(\n",
            "/usr/local/lib/python3.10/dist-packages/torch/utils/data/dataloader.py:617: UserWarning: This DataLoader will create 4 worker processes in total. Our suggested max number of worker in current system is 2, which is smaller than what this DataLoader is going to create. Please be aware that excessive worker creation might get DataLoader running slow or even freeze, lower the worker number to avoid potential slowness/freeze if necessary.\n",
            "  warnings.warn(\n"
          ]
        },
        {
          "output_type": "stream",
          "name": "stdout",
          "text": [
            "train Loss: 0.5220 Acc: 0.7090\n",
            "val Loss: 0.2921 Acc: 0.8889\n",
            "\n",
            "Epoch 1/29\n",
            "----------\n",
            "train Loss: 0.4708 Acc: 0.7623\n",
            "val Loss: 0.2131 Acc: 0.9150\n",
            "\n",
            "Epoch 2/29\n",
            "----------\n",
            "train Loss: 0.4816 Acc: 0.7787\n",
            "val Loss: 0.3306 Acc: 0.8824\n",
            "\n",
            "Epoch 3/29\n",
            "----------\n",
            "train Loss: 0.4297 Acc: 0.8361\n",
            "val Loss: 0.1867 Acc: 0.9412\n",
            "\n",
            "Epoch 4/29\n",
            "----------\n",
            "train Loss: 0.3673 Acc: 0.8279\n",
            "val Loss: 0.4380 Acc: 0.8105\n",
            "\n",
            "Epoch 5/29\n",
            "----------\n",
            "train Loss: 0.5735 Acc: 0.7582\n",
            "val Loss: 0.1926 Acc: 0.9346\n",
            "\n",
            "Epoch 6/29\n",
            "----------\n",
            "train Loss: 0.3866 Acc: 0.8238\n",
            "val Loss: 0.1788 Acc: 0.9412\n",
            "\n",
            "Epoch 7/29\n",
            "----------\n",
            "train Loss: 0.3800 Acc: 0.8320\n",
            "val Loss: 0.1923 Acc: 0.9150\n",
            "\n",
            "Epoch 8/29\n",
            "----------\n",
            "train Loss: 0.3895 Acc: 0.8607\n",
            "val Loss: 0.1836 Acc: 0.9346\n",
            "\n",
            "Epoch 9/29\n",
            "----------\n",
            "train Loss: 0.4299 Acc: 0.8279\n",
            "val Loss: 0.1738 Acc: 0.9477\n",
            "\n",
            "Epoch 10/29\n",
            "----------\n",
            "train Loss: 0.3035 Acc: 0.8689\n",
            "val Loss: 0.2066 Acc: 0.9150\n",
            "\n",
            "Epoch 11/29\n",
            "----------\n",
            "train Loss: 0.3932 Acc: 0.8074\n",
            "val Loss: 0.2058 Acc: 0.9216\n",
            "\n",
            "Epoch 12/29\n",
            "----------\n",
            "train Loss: 0.3103 Acc: 0.8811\n",
            "val Loss: 0.1959 Acc: 0.9281\n",
            "\n",
            "Epoch 13/29\n",
            "----------\n",
            "train Loss: 0.3628 Acc: 0.8443\n",
            "val Loss: 0.1926 Acc: 0.9216\n",
            "\n",
            "Epoch 14/29\n",
            "----------\n",
            "train Loss: 0.4114 Acc: 0.8566\n",
            "val Loss: 0.1757 Acc: 0.9412\n",
            "\n",
            "Epoch 15/29\n",
            "----------\n",
            "train Loss: 0.2907 Acc: 0.8730\n",
            "val Loss: 0.1765 Acc: 0.9477\n",
            "\n",
            "Epoch 16/29\n",
            "----------\n",
            "train Loss: 0.3094 Acc: 0.8770\n",
            "val Loss: 0.1695 Acc: 0.9412\n",
            "\n",
            "Epoch 17/29\n",
            "----------\n",
            "train Loss: 0.2958 Acc: 0.8852\n",
            "val Loss: 0.1748 Acc: 0.9281\n",
            "\n",
            "Epoch 18/29\n",
            "----------\n",
            "train Loss: 0.3418 Acc: 0.8648\n",
            "val Loss: 0.1899 Acc: 0.9216\n",
            "\n",
            "Epoch 19/29\n",
            "----------\n",
            "train Loss: 0.2918 Acc: 0.8770\n",
            "val Loss: 0.2113 Acc: 0.9216\n",
            "\n",
            "Epoch 20/29\n",
            "----------\n",
            "train Loss: 0.3697 Acc: 0.8566\n",
            "val Loss: 0.1674 Acc: 0.9542\n",
            "\n",
            "Epoch 21/29\n",
            "----------\n",
            "train Loss: 0.3625 Acc: 0.8361\n",
            "val Loss: 0.2459 Acc: 0.9085\n",
            "\n",
            "Epoch 22/29\n",
            "----------\n",
            "train Loss: 0.4062 Acc: 0.8156\n",
            "val Loss: 0.2179 Acc: 0.9216\n",
            "\n",
            "Epoch 23/29\n",
            "----------\n",
            "train Loss: 0.3152 Acc: 0.8730\n",
            "val Loss: 0.1811 Acc: 0.9412\n",
            "\n",
            "Epoch 24/29\n",
            "----------\n",
            "train Loss: 0.3961 Acc: 0.8238\n",
            "val Loss: 0.1913 Acc: 0.9216\n",
            "\n",
            "Epoch 25/29\n",
            "----------\n",
            "train Loss: 0.2779 Acc: 0.8730\n",
            "val Loss: 0.1895 Acc: 0.9412\n",
            "\n",
            "Epoch 26/29\n",
            "----------\n",
            "train Loss: 0.2895 Acc: 0.8566\n",
            "val Loss: 0.1821 Acc: 0.9346\n",
            "\n",
            "Epoch 27/29\n",
            "----------\n",
            "train Loss: 0.3428 Acc: 0.8648\n",
            "val Loss: 0.1795 Acc: 0.9477\n",
            "\n",
            "Epoch 28/29\n",
            "----------\n",
            "train Loss: 0.3714 Acc: 0.8074\n",
            "val Loss: 0.1695 Acc: 0.9412\n",
            "\n",
            "Epoch 29/29\n",
            "----------\n",
            "train Loss: 0.2989 Acc: 0.8730\n",
            "val Loss: 0.1842 Acc: 0.9281\n",
            "\n",
            "Training complete in 2m 5s\n",
            "Best val Acc: 0.954248\n"
          ]
        }
      ]
    },
    {
      "cell_type": "code",
      "source": [
        "y_pred = []\n",
        "y_true = []\n",
        "\n",
        "# iterate over test data\n",
        "for inputs, labels in dataloaders['val']:\n",
        "    inputs = inputs.to(device)\n",
        "    labels = labels.to(device)\n",
        "    output = model_conv(inputs)\n",
        "\n",
        "    output = (torch.max(torch.exp(output), 1)[1]).data.cpu().numpy()\n",
        "    y_pred.extend(output)\n",
        "\n",
        "    labels = labels.data.cpu().numpy()\n",
        "    y_true.extend(labels)\n",
        "\n",
        "# Build confusion matrix\n",
        "cf_matrix = confusion_matrix(y_true, y_pred)\n",
        "\n",
        "plt.figure(figsize = (12,7))\n",
        "sn.heatmap(cf_matrix, annot=True)\n",
        "plt.show()"
      ],
      "metadata": {
        "colab": {
          "base_uri": "https://localhost:8080/",
          "height": 599
        },
        "id": "i3QkRnJyLCI8",
        "outputId": "821d90a0-0488-4b45-aac4-2e5d72bd3fe7"
      },
      "execution_count": null,
      "outputs": [
        {
          "output_type": "display_data",
          "data": {
            "text/plain": [
              "<Figure size 1200x700 with 2 Axes>"
            ],
            "image/png": "[encoded data removed]"
          },
          "metadata": {}
        }
      ]
    },
    {
      "cell_type": "markdown",
      "source": [
        "To use the pre-trained ResNet18 model only as a feature extractor, I load it and freeze all of its layers. All parameters will be set to requires_grad = False, so only the last layer—which I changed to produce two classes—will be trained. In order to categorize the Hymenoptera dataset, this method adapts the final layer while utilizing the generic features discovered on ImageNet.\n",
        "\n",
        "Got a validation accuracy around 95%.\n",
        "\n",
        "Because the model's pre-trained layers capture generic visual properties from a big dataset (ImageNet1K), using ResNet18 as a feature extractor increased accuracy. The risk of overfitting to the little Hymenoptera dataset is decreased by freezing these layers, which keeps the model's strong, transferable patterns. This makes it possible for the last layer to concentrate on differentiating between ants and bees, leading to a more precise and effective categorization.\n",
        "\n"
      ],
      "metadata": {
        "id": "KJ439ar1CUOK"
      }
    }
  ]
}